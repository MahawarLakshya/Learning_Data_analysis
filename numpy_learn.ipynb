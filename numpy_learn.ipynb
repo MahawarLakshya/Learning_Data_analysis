{
  "nbformat": 4,
  "nbformat_minor": 0,
  "metadata": {
    "colab": {
      "provenance": [],
      "authorship_tag": "ABX9TyOpGxo9V8XkgFj1W53ZJUXD",
      "include_colab_link": true
    },
    "kernelspec": {
      "name": "python3",
      "display_name": "Python 3"
    },
    "language_info": {
      "name": "python"
    }
  },
  "cells": [
    {
      "cell_type": "markdown",
      "metadata": {
        "id": "view-in-github",
        "colab_type": "text"
      },
      "source": [
        "<a href=\"https://colab.research.google.com/github/MahawarLakshya/Learning_Data_analysis/blob/main/numpy_learn.ipynb\" target=\"_parent\"><img src=\"https://colab.research.google.com/assets/colab-badge.svg\" alt=\"Open In Colab\"/></a>"
      ]
    },
    {
      "cell_type": "markdown",
      "source": [
        "Numpy is extremely popular python model used for scientific computing"
      ],
      "metadata": {
        "id": "HWcKWKZx37eM"
      }
    },
    {
      "cell_type": "code",
      "execution_count": 4,
      "metadata": {
        "id": "AzlNhvHYCe_5",
        "colab": {
          "base_uri": "https://localhost:8080/"
        },
        "outputId": "aa2c8c2b-9037-4350-84a8-4b297f12cd31"
      },
      "outputs": [
        {
          "output_type": "stream",
          "name": "stdout",
          "text": [
            "Requirement already satisfied: numpy in /usr/local/lib/python3.11/dist-packages (1.26.4)\n"
          ]
        }
      ],
      "source": [
        "!pip install numpy"
      ]
    },
    {
      "cell_type": "code",
      "source": [
        "import numpy as np"
      ],
      "metadata": {
        "id": "njfkNRHI4RRX"
      },
      "execution_count": 5,
      "outputs": []
    },
    {
      "cell_type": "markdown",
      "source": [
        "it's useful feature is n dimentional array objects.\n",
        "3 Benfits of numpy array over a python list\n",
        "1)Less Memeory\n",
        "2)Fast\n",
        "3)Convinient"
      ],
      "metadata": {
        "id": "4t8RPSmI4Vu_"
      }
    },
    {
      "cell_type": "code",
      "source": [
        "a=np.array([1,2,3])\n",
        "a"
      ],
      "metadata": {
        "colab": {
          "base_uri": "https://localhost:8080/"
        },
        "id": "IdItJkGZ4bSP",
        "outputId": "e649a8ce-7b3f-41cf-c6ae-01f5198b5dce"
      },
      "execution_count": 6,
      "outputs": [
        {
          "output_type": "execute_result",
          "data": {
            "text/plain": [
              "array([1, 2, 3])"
            ]
          },
          "metadata": {},
          "execution_count": 6
        }
      ]
    },
    {
      "cell_type": "markdown",
      "source": [
        "size difference between numpy array and list\n"
      ],
      "metadata": {
        "id": "UcPTuBXn9aby"
      }
    },
    {
      "cell_type": "code",
      "source": [
        "import sys\n",
        "list=range(10)\n",
        "print(sys.getsizeof(5)*len(list))"
      ],
      "metadata": {
        "colab": {
          "base_uri": "https://localhost:8080/"
        },
        "id": "9bm3IJFP6uhC",
        "outputId": "11f4d6ca-a765-4d91-abb7-be675d59cfbd"
      },
      "execution_count": 7,
      "outputs": [
        {
          "output_type": "stream",
          "name": "stdout",
          "text": [
            "280\n"
          ]
        }
      ]
    },
    {
      "cell_type": "code",
      "source": [
        "array=np.arange(10)\n",
        "print(array.itemsize*array.size)"
      ],
      "metadata": {
        "colab": {
          "base_uri": "https://localhost:8080/"
        },
        "id": "8dAw3kia64Ut",
        "outputId": "d7f30752-3de7-4f1a-ce09-38cd22aac85b"
      },
      "execution_count": 8,
      "outputs": [
        {
          "output_type": "stream",
          "name": "stdout",
          "text": [
            "80\n"
          ]
        }
      ]
    },
    {
      "cell_type": "markdown",
      "source": [
        "Check for the array and list time"
      ],
      "metadata": {
        "id": "_D5vJl3oUKaJ"
      }
    },
    {
      "cell_type": "code",
      "source": [
        "import numpy as np\n",
        "import time\n",
        "\n",
        "list1=range(10000)\n",
        "list2=range(10000)\n",
        "\n",
        "array1=np.arange(10000)\n",
        "array2=np.arange(10000)\n",
        "\n",
        "start=time.time()\n",
        "result=[(x+y) for x,y in zip(list1,list2)]\n",
        "print(\"List took time :\",(time.time()-start)*1000)\n",
        "\n",
        "\n",
        "start=time.time()\n",
        "result=array1+array2\n",
        "print(\"Array took time :\",(time.time()-start)*1000)\n",
        "\n"
      ],
      "metadata": {
        "colab": {
          "base_uri": "https://localhost:8080/"
        },
        "id": "BWjPwNoz-F88",
        "outputId": "03a58786-d2a5-403d-b60d-9b6ea57a9e1e"
      },
      "execution_count": 9,
      "outputs": [
        {
          "output_type": "stream",
          "name": "stdout",
          "text": [
            "List took time : 2.070188522338867\n",
            "Array took time : 2.6624202728271484\n"
          ]
        }
      ]
    },
    {
      "cell_type": "code",
      "source": [
        "a1=np.array([1,2,3])\n",
        "a2=np.array([4,5,6])"
      ],
      "metadata": {
        "id": "R57HSanqViqt"
      },
      "execution_count": 10,
      "outputs": []
    },
    {
      "cell_type": "code",
      "source": [
        "a1+a2"
      ],
      "metadata": {
        "colab": {
          "base_uri": "https://localhost:8080/"
        },
        "id": "G9AzzCmIVvGX",
        "outputId": "7e8df981-8e4a-41cc-ecd5-98e9d1fa0fa8"
      },
      "execution_count": 11,
      "outputs": [
        {
          "output_type": "execute_result",
          "data": {
            "text/plain": [
              "array([5, 7, 9])"
            ]
          },
          "metadata": {},
          "execution_count": 11
        }
      ]
    },
    {
      "cell_type": "code",
      "source": [
        "a1*a2"
      ],
      "metadata": {
        "colab": {
          "base_uri": "https://localhost:8080/"
        },
        "id": "8gF6WmopV0Ma",
        "outputId": "fa9e5fcb-b39d-4d7c-ce32-b268f9b9286c"
      },
      "execution_count": 12,
      "outputs": [
        {
          "output_type": "execute_result",
          "data": {
            "text/plain": [
              "array([ 4, 10, 18])"
            ]
          },
          "metadata": {},
          "execution_count": 12
        }
      ]
    },
    {
      "cell_type": "code",
      "source": [
        "a1-a2"
      ],
      "metadata": {
        "colab": {
          "base_uri": "https://localhost:8080/"
        },
        "id": "FKYbLyuLVxmI",
        "outputId": "aa85845b-cbcf-45e1-8c01-a1fef8c37eeb"
      },
      "execution_count": 13,
      "outputs": [
        {
          "output_type": "execute_result",
          "data": {
            "text/plain": [
              "array([-3, -3, -3])"
            ]
          },
          "metadata": {},
          "execution_count": 13
        }
      ]
    },
    {
      "cell_type": "code",
      "source": [
        "a1/a2"
      ],
      "metadata": {
        "colab": {
          "base_uri": "https://localhost:8080/"
        },
        "id": "OJjSFyN8V272",
        "outputId": "39323540-45d5-46e3-c288-487b5765b39b"
      },
      "execution_count": 14,
      "outputs": [
        {
          "output_type": "execute_result",
          "data": {
            "text/plain": [
              "array([0.25, 0.4 , 0.5 ])"
            ]
          },
          "metadata": {},
          "execution_count": 14
        }
      ]
    },
    {
      "cell_type": "markdown",
      "source": [
        "Basic array operation in numpy"
      ],
      "metadata": {
        "id": "t7eBYRxOV_ou"
      }
    },
    {
      "cell_type": "code",
      "source": [
        "a=np.array([5,6,9])\n"
      ],
      "metadata": {
        "id": "rqABhoLXWEK0"
      },
      "execution_count": 15,
      "outputs": []
    },
    {
      "cell_type": "code",
      "source": [
        "a[0]"
      ],
      "metadata": {
        "colab": {
          "base_uri": "https://localhost:8080/"
        },
        "id": "DUFjGpluZ4P3",
        "outputId": "217fa74a-c893-4522-a9d4-f84d6c5679f9"
      },
      "execution_count": 16,
      "outputs": [
        {
          "output_type": "execute_result",
          "data": {
            "text/plain": [
              "5"
            ]
          },
          "metadata": {},
          "execution_count": 16
        }
      ]
    },
    {
      "cell_type": "markdown",
      "source": [
        "To print the dimension of array"
      ],
      "metadata": {
        "id": "ilM-RAAmailk"
      }
    },
    {
      "cell_type": "code",
      "source": [
        "a.ndim"
      ],
      "metadata": {
        "colab": {
          "base_uri": "https://localhost:8080/"
        },
        "id": "Y3MkKq2waf_E",
        "outputId": "f1975e98-6c66-4a0f-c834-79f261313188"
      },
      "execution_count": 17,
      "outputs": [
        {
          "output_type": "execute_result",
          "data": {
            "text/plain": [
              "1"
            ]
          },
          "metadata": {},
          "execution_count": 17
        }
      ]
    },
    {
      "cell_type": "markdown",
      "source": [
        "FOR 2D ARRAY"
      ],
      "metadata": {
        "id": "ZhRLVLkjam7g"
      }
    },
    {
      "cell_type": "code",
      "source": [
        "import numpy as np"
      ],
      "metadata": {
        "id": "OoJXnbtl4dnX"
      },
      "execution_count": 18,
      "outputs": []
    },
    {
      "cell_type": "code",
      "source": [
        "a=np.array([[1,2],[3,4],[5,6]])\n",
        "a.ndim#to print the dimensions"
      ],
      "metadata": {
        "colab": {
          "base_uri": "https://localhost:8080/"
        },
        "id": "wxucYLC4Z6aI",
        "outputId": "f7a73caa-4f20-4181-d268-9272eb62cfc1"
      },
      "execution_count": 19,
      "outputs": [
        {
          "output_type": "execute_result",
          "data": {
            "text/plain": [
              "2"
            ]
          },
          "metadata": {},
          "execution_count": 19
        }
      ]
    },
    {
      "cell_type": "code",
      "source": [
        "a.itemsize#Print bitesize of each element"
      ],
      "metadata": {
        "colab": {
          "base_uri": "https://localhost:8080/"
        },
        "id": "rjDUD_0Raqbk",
        "outputId": "78e28cc8-643b-44d9-bc13-8787ea6aeaf2"
      },
      "execution_count": 20,
      "outputs": [
        {
          "output_type": "execute_result",
          "data": {
            "text/plain": [
              "8"
            ]
          },
          "metadata": {},
          "execution_count": 20
        }
      ]
    },
    {
      "cell_type": "code",
      "source": [
        "a.dtype#print datatype"
      ],
      "metadata": {
        "colab": {
          "base_uri": "https://localhost:8080/"
        },
        "id": "_2WF9XLR4Vvl",
        "outputId": "81b32816-7b11-4bdf-83c6-7a4063b8da0f"
      },
      "execution_count": 21,
      "outputs": [
        {
          "output_type": "execute_result",
          "data": {
            "text/plain": [
              "dtype('int64')"
            ]
          },
          "metadata": {},
          "execution_count": 21
        }
      ]
    },
    {
      "cell_type": "code",
      "source": [
        "a=np.array([[1,2],[3,4],[5,6]],dtype=np.float64)#change datatype for array\n",
        "a.itemsize"
      ],
      "metadata": {
        "colab": {
          "base_uri": "https://localhost:8080/"
        },
        "id": "hPK9nNFT4jnh",
        "outputId": "4e751426-dddb-44fd-817f-bdd5bbbfd4d0"
      },
      "execution_count": 22,
      "outputs": [
        {
          "output_type": "execute_result",
          "data": {
            "text/plain": [
              "8"
            ]
          },
          "metadata": {},
          "execution_count": 22
        }
      ]
    },
    {
      "cell_type": "code",
      "source": [
        "a"
      ],
      "metadata": {
        "colab": {
          "base_uri": "https://localhost:8080/"
        },
        "id": "DpV01_ND4vZS",
        "outputId": "a57b73c1-3c28-4cf6-8ce1-50f27ca103ac"
      },
      "execution_count": 23,
      "outputs": [
        {
          "output_type": "execute_result",
          "data": {
            "text/plain": [
              "array([[1., 2.],\n",
              "       [3., 4.],\n",
              "       [5., 6.]])"
            ]
          },
          "metadata": {},
          "execution_count": 23
        }
      ]
    },
    {
      "cell_type": "markdown",
      "source": [
        "size of array->gives number of elements present in array"
      ],
      "metadata": {
        "id": "U1xPubAs4TtY"
      }
    },
    {
      "cell_type": "code",
      "source": [
        "a.size"
      ],
      "metadata": {
        "colab": {
          "base_uri": "https://localhost:8080/"
        },
        "id": "Y8MFljFa45Us",
        "outputId": "f0c3e114-3c6f-46b4-9f96-537e0b0c8434"
      },
      "execution_count": 24,
      "outputs": [
        {
          "output_type": "execute_result",
          "data": {
            "text/plain": [
              "6"
            ]
          },
          "metadata": {},
          "execution_count": 24
        }
      ]
    },
    {
      "cell_type": "code",
      "source": [
        "a.shape#tells about the row and column present"
      ],
      "metadata": {
        "colab": {
          "base_uri": "https://localhost:8080/"
        },
        "id": "ryr9r19N47JB",
        "outputId": "be03e98a-cd0b-4909-f836-198ec6bdb2f4"
      },
      "execution_count": 25,
      "outputs": [
        {
          "output_type": "execute_result",
          "data": {
            "text/plain": [
              "(3, 2)"
            ]
          },
          "metadata": {},
          "execution_count": 25
        }
      ]
    },
    {
      "cell_type": "markdown",
      "source": [
        "CAn also add array with complex number"
      ],
      "metadata": {
        "id": "No8R9f_W5Kp7"
      }
    },
    {
      "cell_type": "code",
      "source": [
        "a=np.array([[1,2],[3,4],[5,6]],dtype=complex)\n",
        "a"
      ],
      "metadata": {
        "colab": {
          "base_uri": "https://localhost:8080/"
        },
        "id": "n3eP_-cE5NJs",
        "outputId": "72e9e00c-4d40-4082-d3f1-e6d7f181de22"
      },
      "execution_count": 26,
      "outputs": [
        {
          "output_type": "execute_result",
          "data": {
            "text/plain": [
              "array([[1.+0.j, 2.+0.j],\n",
              "       [3.+0.j, 4.+0.j],\n",
              "       [5.+0.j, 6.+0.j]])"
            ]
          },
          "metadata": {},
          "execution_count": 26
        }
      ]
    },
    {
      "cell_type": "markdown",
      "source": [
        "Make array with all the elements with zero ,we have to specify the shape of array"
      ],
      "metadata": {
        "id": "lHFGhDCt5vSS"
      }
    },
    {
      "cell_type": "code",
      "source": [
        "np.zeros((3,4))"
      ],
      "metadata": {
        "colab": {
          "base_uri": "https://localhost:8080/"
        },
        "id": "Co5JWCBc5hEi",
        "outputId": "860c1767-e01a-4b50-8283-1ba6be806a3d"
      },
      "execution_count": 27,
      "outputs": [
        {
          "output_type": "execute_result",
          "data": {
            "text/plain": [
              "array([[0., 0., 0., 0.],\n",
              "       [0., 0., 0., 0.],\n",
              "       [0., 0., 0., 0.]])"
            ]
          },
          "metadata": {},
          "execution_count": 27
        }
      ]
    },
    {
      "cell_type": "code",
      "source": [
        "np.ones((3,4))"
      ],
      "metadata": {
        "colab": {
          "base_uri": "https://localhost:8080/"
        },
        "id": "M0glW5mZ6BmI",
        "outputId": "ff06f508-369b-4244-b206-48c0dddf96a6"
      },
      "execution_count": 28,
      "outputs": [
        {
          "output_type": "execute_result",
          "data": {
            "text/plain": [
              "array([[1., 1., 1., 1.],\n",
              "       [1., 1., 1., 1.],\n",
              "       [1., 1., 1., 1.]])"
            ]
          },
          "metadata": {},
          "execution_count": 28
        }
      ]
    },
    {
      "cell_type": "markdown",
      "source": [
        "to create array of particular range"
      ],
      "metadata": {
        "id": "fr16pDlO6K1J"
      }
    },
    {
      "cell_type": "code",
      "source": [
        "np.arange(1,5)"
      ],
      "metadata": {
        "colab": {
          "base_uri": "https://localhost:8080/"
        },
        "id": "Ry1b8cwF6Fmn",
        "outputId": "9a0711a9-ccad-45f5-f533-0c9fe1ce4888"
      },
      "execution_count": 29,
      "outputs": [
        {
          "output_type": "execute_result",
          "data": {
            "text/plain": [
              "array([1, 2, 3, 4])"
            ]
          },
          "metadata": {},
          "execution_count": 29
        }
      ]
    },
    {
      "cell_type": "code",
      "source": [
        "np.arange(5)"
      ],
      "metadata": {
        "colab": {
          "base_uri": "https://localhost:8080/"
        },
        "id": "91oCAmd56Uq5",
        "outputId": "f818917d-9233-4cd8-de97-d00c7c63a61f"
      },
      "execution_count": 30,
      "outputs": [
        {
          "output_type": "execute_result",
          "data": {
            "text/plain": [
              "array([0, 1, 2, 3, 4])"
            ]
          },
          "metadata": {},
          "execution_count": 30
        }
      ]
    },
    {
      "cell_type": "markdown",
      "source": [
        "If we want to skip the number or take a step then arange(startnumber,endnumber,steps)"
      ],
      "metadata": {
        "id": "5CsCpbuy6aS5"
      }
    },
    {
      "cell_type": "code",
      "source": [
        "np.arange(1,10,2)"
      ],
      "metadata": {
        "colab": {
          "base_uri": "https://localhost:8080/"
        },
        "id": "v79ZY06_6XEK",
        "outputId": "00b9ae15-39bc-4a13-e24c-5947e1094bff"
      },
      "execution_count": 31,
      "outputs": [
        {
          "output_type": "execute_result",
          "data": {
            "text/plain": [
              "array([1, 3, 5, 7, 9])"
            ]
          },
          "metadata": {},
          "execution_count": 31
        }
      ]
    },
    {
      "cell_type": "markdown",
      "source": [
        "generates the sequence of numbers.\n",
        "(starting value of the sequence,ending value of sequence,number of elements you want in the sequence)"
      ],
      "metadata": {
        "id": "ThPT_QU58Lhz"
      }
    },
    {
      "cell_type": "code",
      "source": [
        "(np.linspace(1,5,5))"
      ],
      "metadata": {
        "colab": {
          "base_uri": "https://localhost:8080/"
        },
        "id": "AOtiPxsA6qUn",
        "outputId": "f63e1de1-8b07-4fc8-d61e-6d410756c19a"
      },
      "execution_count": 32,
      "outputs": [
        {
          "output_type": "execute_result",
          "data": {
            "text/plain": [
              "array([1., 2., 3., 4., 5.])"
            ]
          },
          "metadata": {},
          "execution_count": 32
        }
      ]
    },
    {
      "cell_type": "code",
      "source": [
        "\n",
        "a=np.array(a,dtype=int)\n",
        "a"
      ],
      "metadata": {
        "colab": {
          "base_uri": "https://localhost:8080/"
        },
        "id": "CSSSPBwc8oTX",
        "outputId": "e9a0fea2-bcfd-4f48-d628-cbe64d156ab3"
      },
      "execution_count": 33,
      "outputs": [
        {
          "output_type": "stream",
          "name": "stderr",
          "text": [
            "<ipython-input-33-01c0dc145e68>:1: ComplexWarning: Casting complex values to real discards the imaginary part\n",
            "  a=np.array(a,dtype=int)\n"
          ]
        },
        {
          "output_type": "execute_result",
          "data": {
            "text/plain": [
              "array([[1, 2],\n",
              "       [3, 4],\n",
              "       [5, 6]])"
            ]
          },
          "metadata": {},
          "execution_count": 33
        }
      ]
    },
    {
      "cell_type": "markdown",
      "source": [
        "to change the existing shpae of array use reshape(new_shape)"
      ],
      "metadata": {
        "id": "h7xj_jhk9IvU"
      }
    },
    {
      "cell_type": "code",
      "source": [
        "a.reshape(6,1)"
      ],
      "metadata": {
        "colab": {
          "base_uri": "https://localhost:8080/"
        },
        "id": "M19OshH_86y8",
        "outputId": "17033d75-aa2d-4245-9593-e710a5bd33aa"
      },
      "execution_count": 34,
      "outputs": [
        {
          "output_type": "execute_result",
          "data": {
            "text/plain": [
              "array([[1],\n",
              "       [2],\n",
              "       [3],\n",
              "       [4],\n",
              "       [5],\n",
              "       [6]])"
            ]
          },
          "metadata": {},
          "execution_count": 34
        }
      ]
    },
    {
      "cell_type": "markdown",
      "source": [
        "one can either use reshape function or ravel function to flatten the array\n",
        "\n",
        "note that reshape and ravel donot alter the original array"
      ],
      "metadata": {
        "id": "TylcZ95Z9Oq1"
      }
    },
    {
      "cell_type": "code",
      "source": [
        "a.ravel()"
      ],
      "metadata": {
        "colab": {
          "base_uri": "https://localhost:8080/"
        },
        "id": "XCEmBsB29ToA",
        "outputId": "0d3e1acd-171a-4a5f-e6ac-e367f8ea4c4c"
      },
      "execution_count": 35,
      "outputs": [
        {
          "output_type": "execute_result",
          "data": {
            "text/plain": [
              "array([1, 2, 3, 4, 5, 6])"
            ]
          },
          "metadata": {},
          "execution_count": 35
        }
      ]
    },
    {
      "cell_type": "code",
      "source": [
        "a"
      ],
      "metadata": {
        "colab": {
          "base_uri": "https://localhost:8080/"
        },
        "id": "rgQcrU9L9e0B",
        "outputId": "90da6580-46e1-4ad2-857d-81b526a9aef3"
      },
      "execution_count": 36,
      "outputs": [
        {
          "output_type": "execute_result",
          "data": {
            "text/plain": [
              "array([[1, 2],\n",
              "       [3, 4],\n",
              "       [5, 6]])"
            ]
          },
          "metadata": {},
          "execution_count": 36
        }
      ]
    },
    {
      "cell_type": "markdown",
      "source": [
        "Get minimum element fron array"
      ],
      "metadata": {
        "id": "O5DWNpRu94Xs"
      }
    },
    {
      "cell_type": "code",
      "source": [
        "a.min()"
      ],
      "metadata": {
        "colab": {
          "base_uri": "https://localhost:8080/"
        },
        "id": "URpW4HGw92gI",
        "outputId": "660a7c09-f867-4793-f2ad-9cd4e21afb6a"
      },
      "execution_count": 37,
      "outputs": [
        {
          "output_type": "execute_result",
          "data": {
            "text/plain": [
              "1"
            ]
          },
          "metadata": {},
          "execution_count": 37
        }
      ]
    },
    {
      "cell_type": "markdown",
      "source": [
        "get maximum element from array"
      ],
      "metadata": {
        "id": "k-2tjY01970M"
      }
    },
    {
      "cell_type": "code",
      "source": [
        "a.max()"
      ],
      "metadata": {
        "colab": {
          "base_uri": "https://localhost:8080/"
        },
        "id": "O0fP2jDg9_Pe",
        "outputId": "6fffe10a-05a9-456e-c23d-d88726680ef9"
      },
      "execution_count": 38,
      "outputs": [
        {
          "output_type": "execute_result",
          "data": {
            "text/plain": [
              "6"
            ]
          },
          "metadata": {},
          "execution_count": 38
        }
      ]
    },
    {
      "cell_type": "markdown",
      "source": [
        "to get sum of array elements"
      ],
      "metadata": {
        "id": "S8QzfFVd-BDq"
      }
    },
    {
      "cell_type": "code",
      "source": [
        "a.sum()"
      ],
      "metadata": {
        "colab": {
          "base_uri": "https://localhost:8080/"
        },
        "id": "cnnmqN4h-DJO",
        "outputId": "61fe14b9-4ffe-4dbf-9c4f-539e7e07c8e0"
      },
      "execution_count": 39,
      "outputs": [
        {
          "output_type": "execute_result",
          "data": {
            "text/plain": [
              "21"
            ]
          },
          "metadata": {},
          "execution_count": 39
        }
      ]
    },
    {
      "cell_type": "markdown",
      "source": [
        "![image.png](data:image/png;base64,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)"
      ],
      "metadata": {
        "id": "M9yQc-Klg0mq"
      }
    },
    {
      "cell_type": "code",
      "source": [
        "a"
      ],
      "metadata": {
        "colab": {
          "base_uri": "https://localhost:8080/"
        },
        "id": "TfSPpvi6g2ZC",
        "outputId": "4495e1f1-3fde-4412-bb24-0aa5c4915a3f"
      },
      "execution_count": 40,
      "outputs": [
        {
          "output_type": "execute_result",
          "data": {
            "text/plain": [
              "array([[1, 2],\n",
              "       [3, 4],\n",
              "       [5, 6]])"
            ]
          },
          "metadata": {},
          "execution_count": 40
        }
      ]
    },
    {
      "cell_type": "code",
      "source": [
        "a.sum(axis=0)"
      ],
      "metadata": {
        "colab": {
          "base_uri": "https://localhost:8080/"
        },
        "id": "P5vg64AjhCl0",
        "outputId": "a4d02fc2-5170-41b3-9cb5-055a262950a4"
      },
      "execution_count": 41,
      "outputs": [
        {
          "output_type": "execute_result",
          "data": {
            "text/plain": [
              "array([ 9, 12])"
            ]
          },
          "metadata": {},
          "execution_count": 41
        }
      ]
    },
    {
      "cell_type": "code",
      "source": [
        "a.sum(axis=1)"
      ],
      "metadata": {
        "colab": {
          "base_uri": "https://localhost:8080/"
        },
        "id": "4XkIHN4uhFH0",
        "outputId": "7c5adcd3-e4fd-4f24-b55f-96c8bcede1b5"
      },
      "execution_count": 42,
      "outputs": [
        {
          "output_type": "execute_result",
          "data": {
            "text/plain": [
              "array([ 3,  7, 11])"
            ]
          },
          "metadata": {},
          "execution_count": 42
        }
      ]
    },
    {
      "cell_type": "code",
      "source": [
        "np.round(np.sqrt(a),3)"
      ],
      "metadata": {
        "colab": {
          "base_uri": "https://localhost:8080/"
        },
        "id": "IFub3PiajO1Y",
        "outputId": "67abf281-9942-409e-8cd9-d30e66b37f1d"
      },
      "execution_count": 43,
      "outputs": [
        {
          "output_type": "execute_result",
          "data": {
            "text/plain": [
              "array([[1.   , 1.414],\n",
              "       [1.732, 2.   ],\n",
              "       [2.236, 2.449]])"
            ]
          },
          "metadata": {},
          "execution_count": 43
        }
      ]
    },
    {
      "cell_type": "code",
      "source": [
        "a"
      ],
      "metadata": {
        "colab": {
          "base_uri": "https://localhost:8080/"
        },
        "id": "yJxCosdLj1ba",
        "outputId": "75a5e4b5-4424-4952-94f6-e137f2f96c21"
      },
      "execution_count": 44,
      "outputs": [
        {
          "output_type": "execute_result",
          "data": {
            "text/plain": [
              "array([[1, 2],\n",
              "       [3, 4],\n",
              "       [5, 6]])"
            ]
          },
          "metadata": {},
          "execution_count": 44
        }
      ]
    },
    {
      "cell_type": "code",
      "source": [
        "np.std(a)"
      ],
      "metadata": {
        "colab": {
          "base_uri": "https://localhost:8080/"
        },
        "id": "39Z3S6iyj3NF",
        "outputId": "c52d32fb-dd96-4c2e-be1b-0ca06a54b1b2"
      },
      "execution_count": 45,
      "outputs": [
        {
          "output_type": "execute_result",
          "data": {
            "text/plain": [
              "1.707825127659933"
            ]
          },
          "metadata": {},
          "execution_count": 45
        }
      ]
    },
    {
      "cell_type": "markdown",
      "source": [
        "DOT PRODUCT\n",
        "![image.png](data:image/png;base64,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)\n",
        "![image.png](data:image/png;base64,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)\n"
      ],
      "metadata": {
        "id": "PvgRu32dkFlg"
      }
    },
    {
      "cell_type": "code",
      "source": [
        "a=np.array([[1,2],[3,4]])\n",
        "b=np.array([[3,4],[5,6]])\n"
      ],
      "metadata": {
        "id": "EWv38z2gkDOe"
      },
      "execution_count": 46,
      "outputs": []
    },
    {
      "cell_type": "code",
      "source": [
        "a"
      ],
      "metadata": {
        "colab": {
          "base_uri": "https://localhost:8080/"
        },
        "id": "6xXYUYA-kPDf",
        "outputId": "03ba0fd1-3ec0-4e2c-8f07-e0b26e16e89f"
      },
      "execution_count": 47,
      "outputs": [
        {
          "output_type": "execute_result",
          "data": {
            "text/plain": [
              "array([[1, 2],\n",
              "       [3, 4]])"
            ]
          },
          "metadata": {},
          "execution_count": 47
        }
      ]
    },
    {
      "cell_type": "code",
      "source": [
        "b"
      ],
      "metadata": {
        "colab": {
          "base_uri": "https://localhost:8080/"
        },
        "id": "bpYsjEyWkPwx",
        "outputId": "50206f1f-e175-4878-f177-a7e8d3f973a0"
      },
      "execution_count": 48,
      "outputs": [
        {
          "output_type": "execute_result",
          "data": {
            "text/plain": [
              "array([[3, 4],\n",
              "       [5, 6]])"
            ]
          },
          "metadata": {},
          "execution_count": 48
        }
      ]
    },
    {
      "cell_type": "code",
      "source": [
        "a.dot(b)"
      ],
      "metadata": {
        "colab": {
          "base_uri": "https://localhost:8080/"
        },
        "id": "XLDIlJzUkR5o",
        "outputId": "ac0d914e-4735-422a-d5b5-fecf3b6eb1a6"
      },
      "execution_count": 49,
      "outputs": [
        {
          "output_type": "execute_result",
          "data": {
            "text/plain": [
              "array([[13, 16],\n",
              "       [29, 36]])"
            ]
          },
          "metadata": {},
          "execution_count": 49
        }
      ]
    },
    {
      "cell_type": "markdown",
      "source": [
        "SLICING/STACKING AND INDEXING with boolean array"
      ],
      "metadata": {
        "id": "BAwH4zRHlDBH"
      }
    },
    {
      "cell_type": "code",
      "source": [
        "import numpy as np"
      ],
      "metadata": {
        "id": "K4bqxo1gqUWG"
      },
      "execution_count": 4,
      "outputs": []
    },
    {
      "cell_type": "code",
      "source": [
        "n=[6,7,8]#Normal list\n",
        "n[0:2]#includes zero excludes 2\n",
        "n[-1]#start from the end"
      ],
      "metadata": {
        "colab": {
          "base_uri": "https://localhost:8080/"
        },
        "id": "fiK9DIfLqWO7",
        "outputId": "a3844843-b9e2-4757-c276-286e8c078920"
      },
      "execution_count": 51,
      "outputs": [
        {
          "output_type": "execute_result",
          "data": {
            "text/plain": [
              "8"
            ]
          },
          "metadata": {},
          "execution_count": 51
        }
      ]
    },
    {
      "cell_type": "code",
      "source": [
        "a=np.array([6,7,8])\n",
        "a[0:2]\n",
        "a[-1]"
      ],
      "metadata": {
        "colab": {
          "base_uri": "https://localhost:8080/"
        },
        "id": "wXOwzcNbqm8v",
        "outputId": "69af0499-d5ef-48b2-f1b2-45f5ba5abe44"
      },
      "execution_count": 52,
      "outputs": [
        {
          "output_type": "execute_result",
          "data": {
            "text/plain": [
              "8"
            ]
          },
          "metadata": {},
          "execution_count": 52
        }
      ]
    },
    {
      "cell_type": "code",
      "source": [
        "a=np.array([[6,7,8],[1,2,3],[9,3,2]])\n",
        "a"
      ],
      "metadata": {
        "colab": {
          "base_uri": "https://localhost:8080/"
        },
        "id": "KNK1aQVWqttH",
        "outputId": "6e217d6f-0df4-42c7-82c5-158abf5e2cba"
      },
      "execution_count": 53,
      "outputs": [
        {
          "output_type": "execute_result",
          "data": {
            "text/plain": [
              "array([[6, 7, 8],\n",
              "       [1, 2, 3],\n",
              "       [9, 3, 2]])"
            ]
          },
          "metadata": {},
          "execution_count": 53
        }
      ]
    },
    {
      "cell_type": "code",
      "source": [
        "a"
      ],
      "metadata": {
        "colab": {
          "base_uri": "https://localhost:8080/"
        },
        "id": "PMNxMykRq8tn",
        "outputId": "d46a6180-b77d-4894-b14d-00e3e3b27a57"
      },
      "execution_count": 54,
      "outputs": [
        {
          "output_type": "execute_result",
          "data": {
            "text/plain": [
              "array([[6, 7, 8],\n",
              "       [1, 2, 3],\n",
              "       [9, 3, 2]])"
            ]
          },
          "metadata": {},
          "execution_count": 54
        }
      ]
    },
    {
      "cell_type": "markdown",
      "source": [
        "![image.png](data:image/png;base64,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)"
      ],
      "metadata": {
        "id": "aCjpct34rNPw"
      }
    },
    {
      "cell_type": "code",
      "source": [
        "a[0:2,2]#slice 0 to 1st row and then print 2nd column"
      ],
      "metadata": {
        "colab": {
          "base_uri": "https://localhost:8080/"
        },
        "id": "SVobvQ4zrApE",
        "outputId": "dc7f0bd3-9929-4b4d-c2b2-e5d998141d5c"
      },
      "execution_count": 55,
      "outputs": [
        {
          "output_type": "execute_result",
          "data": {
            "text/plain": [
              "array([8, 3])"
            ]
          },
          "metadata": {},
          "execution_count": 55
        }
      ]
    },
    {
      "cell_type": "code",
      "source": [
        "a[-1]#last row"
      ],
      "metadata": {
        "colab": {
          "base_uri": "https://localhost:8080/"
        },
        "id": "0iwGeY9ZrTQK",
        "outputId": "3672de21-14c0-4a4d-8eb1-93804d564bd6"
      },
      "execution_count": 56,
      "outputs": [
        {
          "output_type": "execute_result",
          "data": {
            "text/plain": [
              "array([9, 3, 2])"
            ]
          },
          "metadata": {},
          "execution_count": 56
        }
      ]
    },
    {
      "cell_type": "markdown",
      "source": [
        "print the first two elements from last 2 rows"
      ],
      "metadata": {
        "id": "FwHiq5LgrYlH"
      }
    },
    {
      "cell_type": "code",
      "source": [
        "a[-1,0:2]\n"
      ],
      "metadata": {
        "colab": {
          "base_uri": "https://localhost:8080/"
        },
        "id": "drBOciZqud2h",
        "outputId": "c5f210de-1139-4fc8-f9ef-0562fe8f80e3"
      },
      "execution_count": 57,
      "outputs": [
        {
          "output_type": "execute_result",
          "data": {
            "text/plain": [
              "array([9, 3])"
            ]
          },
          "metadata": {},
          "execution_count": 57
        }
      ]
    },
    {
      "cell_type": "markdown",
      "source": [
        "\"\"\"-1: This selects the last row of the array a. In Python, negative indexing starts from the end, so -1 represents the last element (in this case, the last row).\n",
        "0:2: This is a slice that selects elements from column 0 up to (but not including) column 2. It effectively selects the first two elements (columns 0 and 1) of the selected row.\"\"\""
      ],
      "metadata": {
        "id": "GhFp-iBIvAOD"
      }
    },
    {
      "cell_type": "markdown",
      "source": [
        "print the last 2 columns"
      ],
      "metadata": {
        "id": "avYWx3f4vDlS"
      }
    },
    {
      "cell_type": "code",
      "source": [
        "a[:,1:3]"
      ],
      "metadata": {
        "colab": {
          "base_uri": "https://localhost:8080/"
        },
        "id": "PlZj4-I1vF-K",
        "outputId": "3fe73169-7601-4b51-bc82-a9c1fa8b401d"
      },
      "execution_count": 58,
      "outputs": [
        {
          "output_type": "execute_result",
          "data": {
            "text/plain": [
              "array([[7, 8],\n",
              "       [2, 3],\n",
              "       [3, 2]])"
            ]
          },
          "metadata": {},
          "execution_count": 58
        }
      ]
    },
    {
      "cell_type": "markdown",
      "source": [
        "Move to all the rows and then mark the selected column"
      ],
      "metadata": {
        "id": "QQrsRVGcvLmL"
      }
    },
    {
      "cell_type": "markdown",
      "source": [
        "ITERATRE THROUGH ARRAY"
      ],
      "metadata": {
        "id": "N1gfl0Bdvdjo"
      }
    },
    {
      "cell_type": "code",
      "source": [
        "for row in a:\n",
        "    print(row)"
      ],
      "metadata": {
        "colab": {
          "base_uri": "https://localhost:8080/"
        },
        "id": "hrmEqYq6vgJQ",
        "outputId": "a687bdb2-f0bc-4ac5-afba-dd8bab810474"
      },
      "execution_count": 59,
      "outputs": [
        {
          "output_type": "stream",
          "name": "stdout",
          "text": [
            "[6 7 8]\n",
            "[1 2 3]\n",
            "[9 3 2]\n"
          ]
        }
      ]
    },
    {
      "cell_type": "markdown",
      "source": [
        "print flatten the array"
      ],
      "metadata": {
        "id": "4waCax6zvoI2"
      }
    },
    {
      "cell_type": "code",
      "source": [
        "a.ravel()"
      ],
      "metadata": {
        "colab": {
          "base_uri": "https://localhost:8080/"
        },
        "id": "pHV9Vqu1vqJA",
        "outputId": "58231af5-c261-44c6-c8f1-1f3db670f9ff"
      },
      "execution_count": 60,
      "outputs": [
        {
          "output_type": "execute_result",
          "data": {
            "text/plain": [
              "array([6, 7, 8, 1, 2, 3, 9, 3, 2])"
            ]
          },
          "metadata": {},
          "execution_count": 60
        }
      ]
    },
    {
      "cell_type": "code",
      "source": [
        "for cell in a.flat:\n",
        "    print(cell)"
      ],
      "metadata": {
        "colab": {
          "base_uri": "https://localhost:8080/"
        },
        "id": "VnGFZmyJvs30",
        "outputId": "663e2f7e-034d-4922-8851-356db758b266"
      },
      "execution_count": 61,
      "outputs": [
        {
          "output_type": "stream",
          "name": "stdout",
          "text": [
            "6\n",
            "7\n",
            "8\n",
            "1\n",
            "2\n",
            "3\n",
            "9\n",
            "3\n",
            "2\n"
          ]
        }
      ]
    },
    {
      "cell_type": "markdown",
      "source": [
        "Stick two array together"
      ],
      "metadata": {
        "id": "ofzvNXq-vySA"
      }
    },
    {
      "cell_type": "code",
      "source": [
        "a=np.arange(1,7).reshape(3,2)\n",
        "b=np.arange(6,12).reshape(3,2)"
      ],
      "metadata": {
        "id": "8PrvdzUhv0L3"
      },
      "execution_count": 62,
      "outputs": []
    },
    {
      "cell_type": "code",
      "source": [
        "a"
      ],
      "metadata": {
        "colab": {
          "base_uri": "https://localhost:8080/"
        },
        "id": "m_yuezNXwZo7",
        "outputId": "a3e3f1d7-8eff-4d99-ca29-6946f607c447"
      },
      "execution_count": 63,
      "outputs": [
        {
          "output_type": "execute_result",
          "data": {
            "text/plain": [
              "array([[1, 2],\n",
              "       [3, 4],\n",
              "       [5, 6]])"
            ]
          },
          "metadata": {},
          "execution_count": 63
        }
      ]
    },
    {
      "cell_type": "code",
      "source": [
        "b"
      ],
      "metadata": {
        "colab": {
          "base_uri": "https://localhost:8080/"
        },
        "id": "cp-otq9qwHO0",
        "outputId": "4615312b-8f2a-493f-ac47-eff55d824ebd"
      },
      "execution_count": 64,
      "outputs": [
        {
          "output_type": "execute_result",
          "data": {
            "text/plain": [
              "array([[ 6,  7],\n",
              "       [ 8,  9],\n",
              "       [10, 11]])"
            ]
          },
          "metadata": {},
          "execution_count": 64
        }
      ]
    },
    {
      "cell_type": "code",
      "source": [
        "np.vstack((a,b))"
      ],
      "metadata": {
        "colab": {
          "base_uri": "https://localhost:8080/"
        },
        "id": "xCVeYMobwcnx",
        "outputId": "39313ef1-8b3f-4d75-fca9-b902ddc9d80f"
      },
      "execution_count": 65,
      "outputs": [
        {
          "output_type": "execute_result",
          "data": {
            "text/plain": [
              "array([[ 1,  2],\n",
              "       [ 3,  4],\n",
              "       [ 5,  6],\n",
              "       [ 6,  7],\n",
              "       [ 8,  9],\n",
              "       [10, 11]])"
            ]
          },
          "metadata": {},
          "execution_count": 65
        }
      ]
    },
    {
      "cell_type": "code",
      "source": [
        "np.hstack((a,b))"
      ],
      "metadata": {
        "colab": {
          "base_uri": "https://localhost:8080/"
        },
        "id": "PMdl5xfNwiyQ",
        "outputId": "82ee0996-0d86-4603-841d-c8cd191dfda0"
      },
      "execution_count": 66,
      "outputs": [
        {
          "output_type": "execute_result",
          "data": {
            "text/plain": [
              "array([[ 1,  2,  6,  7],\n",
              "       [ 3,  4,  8,  9],\n",
              "       [ 5,  6, 10, 11]])"
            ]
          },
          "metadata": {},
          "execution_count": 66
        }
      ]
    },
    {
      "cell_type": "markdown",
      "source": [
        "split the array"
      ],
      "metadata": {
        "id": "oIZo6Mg5w0Sd"
      }
    },
    {
      "cell_type": "code",
      "source": [
        "p=np.arange(30).reshape(2,15)"
      ],
      "metadata": {
        "id": "i0htamRXw40f"
      },
      "execution_count": 67,
      "outputs": []
    },
    {
      "cell_type": "code",
      "source": [
        "p"
      ],
      "metadata": {
        "colab": {
          "base_uri": "https://localhost:8080/"
        },
        "id": "KLa3j8AxxEAI",
        "outputId": "e152727a-95cb-4893-87eb-2eb6f7a6e7bd"
      },
      "execution_count": 68,
      "outputs": [
        {
          "output_type": "execute_result",
          "data": {
            "text/plain": [
              "array([[ 0,  1,  2,  3,  4,  5,  6,  7,  8,  9, 10, 11, 12, 13, 14],\n",
              "       [15, 16, 17, 18, 19, 20, 21, 22, 23, 24, 25, 26, 27, 28, 29]])"
            ]
          },
          "metadata": {},
          "execution_count": 68
        }
      ]
    },
    {
      "cell_type": "code",
      "source": [
        "result=np.hsplit(p,3)#split array p into 3 equal parts"
      ],
      "metadata": {
        "id": "y1pIXNTiw2YB"
      },
      "execution_count": 69,
      "outputs": []
    },
    {
      "cell_type": "code",
      "source": [
        "result[0]"
      ],
      "metadata": {
        "colab": {
          "base_uri": "https://localhost:8080/"
        },
        "id": "QSxGRMo6xMuT",
        "outputId": "d50a86a7-d9b5-4a4b-8d17-24ae96b17c1a"
      },
      "execution_count": 70,
      "outputs": [
        {
          "output_type": "execute_result",
          "data": {
            "text/plain": [
              "array([[ 0,  1,  2,  3,  4],\n",
              "       [15, 16, 17, 18, 19]])"
            ]
          },
          "metadata": {},
          "execution_count": 70
        }
      ]
    },
    {
      "cell_type": "code",
      "source": [
        "result[1]"
      ],
      "metadata": {
        "colab": {
          "base_uri": "https://localhost:8080/"
        },
        "id": "T_e0y1FWy5_T",
        "outputId": "a22552f2-8361-4e0d-94a6-e004c34537c8"
      },
      "execution_count": 71,
      "outputs": [
        {
          "output_type": "execute_result",
          "data": {
            "text/plain": [
              "array([[ 5,  6,  7,  8,  9],\n",
              "       [20, 21, 22, 23, 24]])"
            ]
          },
          "metadata": {},
          "execution_count": 71
        }
      ]
    },
    {
      "cell_type": "code",
      "source": [
        "result=np.vsplit(p,2)"
      ],
      "metadata": {
        "id": "-CFVQPBUy9KB"
      },
      "execution_count": 72,
      "outputs": []
    },
    {
      "cell_type": "code",
      "source": [
        "result"
      ],
      "metadata": {
        "colab": {
          "base_uri": "https://localhost:8080/"
        },
        "id": "lQrMlUjPzUEf",
        "outputId": "3a40e116-13aa-4d90-c757-8429d14d76a8"
      },
      "execution_count": 73,
      "outputs": [
        {
          "output_type": "execute_result",
          "data": {
            "text/plain": [
              "[array([[ 0,  1,  2,  3,  4,  5,  6,  7,  8,  9, 10, 11, 12, 13, 14]]),\n",
              " array([[15, 16, 17, 18, 19, 20, 21, 22, 23, 24, 25, 26, 27, 28, 29]])]"
            ]
          },
          "metadata": {},
          "execution_count": 73
        }
      ]
    },
    {
      "cell_type": "markdown",
      "source": [
        "INDEXING"
      ],
      "metadata": {
        "id": "il-C5H89zuG3"
      }
    },
    {
      "cell_type": "code",
      "source": [
        "m=np.arange(1,13).reshape(3,4)"
      ],
      "metadata": {
        "id": "sr29TJRKzwcK"
      },
      "execution_count": 5,
      "outputs": []
    },
    {
      "cell_type": "code",
      "source": [
        "m"
      ],
      "metadata": {
        "colab": {
          "base_uri": "https://localhost:8080/"
        },
        "id": "kS8hwkgUz2cf",
        "outputId": "4adea66c-d323-411c-98d3-b4eb46393206"
      },
      "execution_count": 86,
      "outputs": [
        {
          "output_type": "execute_result",
          "data": {
            "text/plain": [
              "array([[ 1,  2,  3,  4],\n",
              "       [ 5,  6,  7,  8],\n",
              "       [ 9, 10, 11, 12]])"
            ]
          },
          "metadata": {},
          "execution_count": 86
        }
      ]
    },
    {
      "cell_type": "code",
      "source": [
        "b=((m>4) & (m<=6))"
      ],
      "metadata": {
        "id": "DtC08GQFz7iT"
      },
      "execution_count": 76,
      "outputs": []
    },
    {
      "cell_type": "markdown",
      "source": [
        "It checks b variable and return those values that has true in it"
      ],
      "metadata": {
        "id": "A94KXqlU0IIk"
      }
    },
    {
      "cell_type": "code",
      "source": [
        "m[b]"
      ],
      "metadata": {
        "colab": {
          "base_uri": "https://localhost:8080/"
        },
        "id": "_eZsbgUd0GCb",
        "outputId": "08309e8e-7d8b-46a9-a763-3d2510e9d7b1"
      },
      "execution_count": 77,
      "outputs": [
        {
          "output_type": "execute_result",
          "data": {
            "text/plain": [
              "array([5, 6])"
            ]
          },
          "metadata": {},
          "execution_count": 77
        }
      ]
    },
    {
      "cell_type": "markdown",
      "source": [
        "set all even elements to -1"
      ],
      "metadata": {
        "id": "aWi5lhGf1Gwz"
      }
    },
    {
      "cell_type": "code",
      "source": [
        "b=(m%2==0)\n",
        "m[b]=-1"
      ],
      "metadata": {
        "id": "Iy0zCTP31J6a"
      },
      "execution_count": 78,
      "outputs": []
    },
    {
      "cell_type": "code",
      "source": [
        "m"
      ],
      "metadata": {
        "colab": {
          "base_uri": "https://localhost:8080/"
        },
        "id": "b-MncjkU1NTe",
        "outputId": "f96517b3-9eaf-4ed6-c663-b72b0b12b23a"
      },
      "execution_count": 6,
      "outputs": [
        {
          "output_type": "execute_result",
          "data": {
            "text/plain": [
              "array([[ 1,  2,  3,  4],\n",
              "       [ 5,  6,  7,  8],\n",
              "       [ 9, 10, 11, 12]])"
            ]
          },
          "metadata": {},
          "execution_count": 6
        }
      ]
    },
    {
      "cell_type": "markdown",
      "source": [
        "now print oddd number form above"
      ],
      "metadata": {
        "id": "d1HmSNCp1pVY"
      }
    },
    {
      "cell_type": "code",
      "source": [
        "m[m!=-1]"
      ],
      "metadata": {
        "colab": {
          "base_uri": "https://localhost:8080/"
        },
        "id": "N4IymvuD1rXl",
        "outputId": "6e560b29-884b-46f0-c312-41c463fe57cb"
      },
      "execution_count": 80,
      "outputs": [
        {
          "output_type": "execute_result",
          "data": {
            "text/plain": [
              "array([ 1,  3,  5,  7,  9, 11])"
            ]
          },
          "metadata": {},
          "execution_count": 80
        }
      ]
    },
    {
      "cell_type": "markdown",
      "source": [
        "USE nditer in numpy"
      ],
      "metadata": {
        "id": "qF4fc3u2BFDq"
      }
    },
    {
      "cell_type": "code",
      "source": [
        "for row in m:\n",
        "  for cell in row:\n",
        "    print (cell)"
      ],
      "metadata": {
        "colab": {
          "base_uri": "https://localhost:8080/"
        },
        "id": "U49KoWLWBH8s",
        "outputId": "2b5f762a-9db9-4d68-bcae-65e4af29e802"
      },
      "execution_count": 7,
      "outputs": [
        {
          "output_type": "stream",
          "name": "stdout",
          "text": [
            "1\n",
            "2\n",
            "3\n",
            "4\n",
            "5\n",
            "6\n",
            "7\n",
            "8\n",
            "9\n",
            "10\n",
            "11\n",
            "12\n"
          ]
        }
      ]
    },
    {
      "cell_type": "markdown",
      "source": [
        "row by row print of elements"
      ],
      "metadata": {
        "id": "TN3Qs7jMBoAP"
      }
    },
    {
      "cell_type": "code",
      "source": [
        "for x in np.nditer(m,order='C'):\n",
        "  print(x)"
      ],
      "metadata": {
        "colab": {
          "base_uri": "https://localhost:8080/"
        },
        "id": "z8aUhAwpBrsM",
        "outputId": "ce7854ae-17cd-494f-d3fe-523e4bb75c59"
      },
      "execution_count": 8,
      "outputs": [
        {
          "output_type": "stream",
          "name": "stdout",
          "text": [
            "1\n",
            "2\n",
            "3\n",
            "4\n",
            "5\n",
            "6\n",
            "7\n",
            "8\n",
            "9\n",
            "10\n",
            "11\n",
            "12\n"
          ]
        }
      ]
    },
    {
      "cell_type": "markdown",
      "source": [
        "Column by column print"
      ],
      "metadata": {
        "id": "BZv0uvM1B060"
      }
    },
    {
      "cell_type": "code",
      "source": [
        "for x in np.nditer(m,order='F'):\n",
        "  print(x)"
      ],
      "metadata": {
        "colab": {
          "base_uri": "https://localhost:8080/"
        },
        "id": "YOmvPzk4B3uD",
        "outputId": "d9e6206e-8792-42da-9c88-e16449cdc1ec"
      },
      "execution_count": 9,
      "outputs": [
        {
          "output_type": "stream",
          "name": "stdout",
          "text": [
            "1\n",
            "5\n",
            "9\n",
            "2\n",
            "6\n",
            "10\n",
            "3\n",
            "7\n",
            "11\n",
            "4\n",
            "8\n",
            "12\n"
          ]
        }
      ]
    },
    {
      "cell_type": "code",
      "source": [
        "for x in np.nditer(m,order='F',flags=['external_loop']):\n",
        "  print(x)"
      ],
      "metadata": {
        "colab": {
          "base_uri": "https://localhost:8080/"
        },
        "id": "kcsOOS5_Co8b",
        "outputId": "2f569635-6a6c-4f8b-f1eb-432a5cb8fdb9"
      },
      "execution_count": 10,
      "outputs": [
        {
          "output_type": "stream",
          "name": "stdout",
          "text": [
            "[1 5 9]\n",
            "[ 2  6 10]\n",
            "[ 3  7 11]\n",
            "[ 4  8 12]\n"
          ]
        }
      ]
    },
    {
      "cell_type": "markdown",
      "source": [
        "Modify the existing array with square of given numbers"
      ],
      "metadata": {
        "id": "ldSk5UQ8ER-K"
      }
    },
    {
      "cell_type": "code",
      "source": [
        "for x in np.nditer(m,op_flags=['readwrite']):\n",
        "  x[...]=x*x\n",
        "m"
      ],
      "metadata": {
        "colab": {
          "base_uri": "https://localhost:8080/"
        },
        "id": "r8bj9a0YERig",
        "outputId": "bddd62df-4af8-467a-e346-0dd222fa350c"
      },
      "execution_count": 12,
      "outputs": [
        {
          "output_type": "execute_result",
          "data": {
            "text/plain": [
              "array([[  1,   4,   9,  16],\n",
              "       [ 25,  36,  49,  64],\n",
              "       [ 81, 100, 121, 144]])"
            ]
          },
          "metadata": {},
          "execution_count": 12
        }
      ]
    },
    {
      "cell_type": "code",
      "source": [
        "b=np.arange(3,15,4).reshape(3,1)\n",
        "b"
      ],
      "metadata": {
        "colab": {
          "base_uri": "https://localhost:8080/"
        },
        "id": "IADb0Y3iE0H7",
        "outputId": "f6a4f108-ccde-499d-cc17-4a99c75e8e68"
      },
      "execution_count": 13,
      "outputs": [
        {
          "output_type": "execute_result",
          "data": {
            "text/plain": [
              "array([[ 3],\n",
              "       [ 7],\n",
              "       [11]])"
            ]
          },
          "metadata": {},
          "execution_count": 13
        }
      ]
    },
    {
      "cell_type": "code",
      "source": [
        "for x,y in np.nditer([m,b]):\n",
        "  print(x,y)"
      ],
      "metadata": {
        "colab": {
          "base_uri": "https://localhost:8080/"
        },
        "id": "_9Fly4uGFE7W",
        "outputId": "ad2dec11-4ef3-4585-865c-2b43e97f0e74"
      },
      "execution_count": 15,
      "outputs": [
        {
          "output_type": "stream",
          "name": "stdout",
          "text": [
            "1 3\n",
            "4 3\n",
            "9 3\n",
            "16 3\n",
            "25 7\n",
            "36 7\n",
            "49 7\n",
            "64 7\n",
            "81 11\n",
            "100 11\n",
            "121 11\n",
            "144 11\n"
          ]
        }
      ]
    }
  ]
}